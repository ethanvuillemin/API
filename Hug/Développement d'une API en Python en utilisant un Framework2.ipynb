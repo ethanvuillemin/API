{
 "cells": [
  {
   "attachments": {},
   "cell_type": "markdown",
   "metadata": {},
   "source": [
    "# Développement d'une API en Python en utilisant le Framework HUG"
   ]
  },
  {
   "attachments": {},
   "cell_type": "markdown",
   "metadata": {},
   "source": [
    "## Instalation de HUG"
   ]
  },
  {
   "cell_type": "code",
   "execution_count": 1,
   "metadata": {},
   "outputs": [],
   "source": [
    "# %pip install hug -U"
   ]
  },
  {
   "attachments": {},
   "cell_type": "markdown",
   "metadata": {},
   "source": [
    "# Création de l'API"
   ]
  },
  {
   "cell_type": "code",
   "execution_count": 2,
   "metadata": {},
   "outputs": [],
   "source": [
    "import hug, random, requests, json\n",
    "\n",
    "api = hug.get(on_invalid=hug.redirect.not_found)\n",
    "url_station = 'https://www.juleshaag.fr/devIA/devAPI/station_information.json'\n",
    "\n",
    "@hug.get('/hello')\n",
    "def hello():\n",
    "    return 'Hello, world!'\n",
    "\n",
    "@hug.get('/var')\n",
    "def var():\n",
    "    return random.randint(0, 100)\n",
    "\n",
    "@api.urls('/var2', examples='nb=1')\n",
    "def generate_random_values(nb: hug.types.number):\n",
    "    values = [random.randint(-1000, 1000) for _ in range(nb)]\n",
    "    data = {\"values\": values}\n",
    "    return data\n",
    "\n",
    "@api.urls('/calc/add', examples='number_1=1&number_2=2')\n",
    "def add(number_1: hug.types.number, number_2: hug.types.number):\n",
    "    return number_1 + number_2\n",
    "\n",
    "@api.urls('/calc/prod', examples='number_1=1&number_2=2')\n",
    "def prod(number_1: hug.types.number, number_2: hug.types.number):\n",
    "    return number_1 * number_2\n",
    "\n",
    "@api.urls('/img', examples='num=1')\n",
    "def img(num: hug.types.number):\n",
    "    return hug.redirect.to(f'https://www.juleshaag.fr/devIA/devAPI/{num}.png')\n",
    "\n",
    "@api.urls('/station_velo', examples='id=1')\n",
    "def station_velo(id: hug.types.number):\n",
    "    data=requests.get(url_station).json()\n",
    "    for content in data['data']['stations']:\n",
    "            if id == int(content['station_id']):\n",
    "                return content\n",
    "    return {\"error\": \"Station vélo non trouvée\"}\n",
    "\n",
    "@api.urls('/station_velo2', examples='id=1&addr=<random_content>&cap=<random_content>')\n",
    "def station_velo(id: hug.types.number, addr: hug.types.text=None, cap: hug.types.text=None):\n",
    "    data=requests.get(url_station).json()\n",
    "    for content in data['data']['stations']:\n",
    "        if id == int(content['station_id']):\n",
    "            resultat = content\n",
    "        else:\n",
    "            resultat = {\"error\": \"Station vélo non trouvée\"}\n",
    "\n",
    "    if addr and cap:\n",
    "        resultat = {\"address\": content['address'], \"capacity\": content['capacity']}\n",
    "    elif addr :\n",
    "        resultat =  {\"address\": content['address']}\n",
    "    elif cap :\n",
    "        resultat = {\"capacity\": content['capacity']}\n",
    "    return resultat"
   ]
  },
  {
   "cell_type": "code",
   "execution_count": 3,
   "metadata": {},
   "outputs": [],
   "source": [
    "@api.urls('/stations_velo/toutes/cap', output=hug.output_format.json)\n",
    "def get_total_capacity(capacity_filter: hug.types.text = ''):\n",
    "    data=requests.get(url_station).json()\n",
    "    \n",
    "    stations = data['data']['stations']\n",
    "    capacity_list = [station['capacity'] for station in stations if not capacity_filter]\n",
    "    total_capacity = sum(capacity_list)\n",
    "\n",
    "    capacity_dict = {f\"station_id {station['station_id']}\": station['capacity'] for station in stations if not capacity_filter}\n",
    "    capacity_dict['total_capacity'] = total_capacity\n",
    "\n",
    "    return capacity_dict"
   ]
  },
  {
   "cell_type": "code",
   "execution_count": 5,
   "metadata": {},
   "outputs": [],
   "source": [
    "@hug.get(\"/stations_velo5/{id}/cap\",output=hug.output_format.text)\n",
    "\n",
    "def root(id: hug.types.number, cap : hug.types.text = ''):\n",
    "\n",
    "    get = requests.get(f'https://www.juleshaag.fr/devIA/devAPI/station_information.json',stream=True)\n",
    "    decoded_data = get.content.decode('utf-8')\n",
    "    json_data = json.loads(decoded_data)\n",
    "    stations = json_data['data']['stations']\n",
    "    for item in stations:\n",
    "        if item['station_id']==f\"{id}\":\n",
    "\n",
    "            if cap == '' :\n",
    "\n",
    "                return int(item['capacity'])"
   ]
  },
  {
   "cell_type": "code",
   "execution_count": 6,
   "metadata": {},
   "outputs": [],
   "source": [
    "# #http://localhost:8000/stations_velo4/id/addr\"\n",
    "\n",
    "@hug.get(\"/stations_velo5/{id}/addr\",output=hug.output_format.text)\n",
    "\n",
    "def root(id: hug.types.number, addr : hug.types.text = ''):\n",
    "\n",
    "    get = requests.get(f'https://www.juleshaag.fr/devIA/devAPI/station_information.json',stream=True)\n",
    "\n",
    "    decoded_data = get.content.decode('utf-8')\n",
    "\n",
    "    json_data = json.loads(decoded_data)\n",
    "\n",
    "    stations = json_data['data']['stations']\n",
    "\n",
    "    for item in stations:\n",
    "\n",
    "        if item['station_id']==f\"{id}\":\n",
    "\n",
    "            if addr == '' :\n",
    "\n",
    "                return item['address']"
   ]
  },
  {
   "attachments": {},
   "cell_type": "markdown",
   "metadata": {},
   "source": [
    "## Lancer l' API"
   ]
  },
  {
   "cell_type": "code",
   "execution_count": 7,
   "metadata": {},
   "outputs": [
    {
     "name": "stdout",
     "output_type": "stream",
     "text": [
      "\n",
      "/#######################################################################\\\n",
      "          `.----``..-------..``.----.\n",
      "         :/:::::--:---------:--::::://.\n",
      "        .+::::----##/-/oo+:-##----:::://\n",
      "        `//::-------/oosoo-------::://.       ##    ##  ##    ##    #####\n",
      "          .-:------./++o/o-.------::-`   ```  ##    ##  ##    ##  ##\n",
      "             `----.-./+o+:..----.     `.:///. ########  ##    ## ##\n",
      "   ```        `----.-::::::------  `.-:::://. ##    ##  ##    ## ##   ####\n",
      "  ://::--.``` -:``...-----...` `:--::::::-.`  ##    ##  ##   ##   ##    ##\n",
      "  :/:::::::::-:-     `````      .:::::-.`     ##    ##    ####     ######\n",
      "   ``.--:::::::.                .:::.`\n",
      "         ``..::.                .::         EMBRACE THE APIs OF THE FUTURE\n",
      "             ::-                .:-\n",
      "             -::`               ::-                   VERSION 2.6.1\n",
      "             `::-              -::`\n",
      "              -::-`           -::-\n",
      "\\########################################################################/\n",
      "\n",
      " Copyright (C) 2016 Timothy Edmund Crosley\n",
      " Under the MIT License\n",
      "\n",
      "\n",
      "Serving on :8000...\n"
     ]
    },
    {
     "name": "stderr",
     "output_type": "stream",
     "text": [
      "127.0.0.1 - - [27/Apr/2023 17:22:49] \"GET /station_velo?id=30 HTTP/1.1\" 200 138\n",
      "127.0.0.1 - - [27/Apr/2023 17:22:55] \"GET /station_velo/toutes/cap HTTP/1.1\" 404 6997\n",
      "127.0.0.1 - - [27/Apr/2023 17:23:21] \"GET /station_velo/stations_velo5/30/cap HTTP/1.1\" 404 6997\n",
      "127.0.0.1 - - [27/Apr/2023 17:23:54] \"GET /station_velo/stations_velo5/id=30/cap HTTP/1.1\" 404 6997\n"
     ]
    },
    {
     "ename": "KeyboardInterrupt",
     "evalue": "",
     "output_type": "error",
     "traceback": [
      "\u001b[1;31m---------------------------------------------------------------------------\u001b[0m",
      "\u001b[1;31mKeyboardInterrupt\u001b[0m                         Traceback (most recent call last)",
      "Cell \u001b[1;32mIn[7], line 2\u001b[0m\n\u001b[0;32m      1\u001b[0m \u001b[39mif\u001b[39;00m \u001b[39m__name__\u001b[39m \u001b[39m==\u001b[39m \u001b[39m'\u001b[39m\u001b[39m__main__\u001b[39m\u001b[39m'\u001b[39m:\n\u001b[1;32m----> 2\u001b[0m     hug\u001b[39m.\u001b[39;49mAPI(\u001b[39m__name__\u001b[39;49m)\u001b[39m.\u001b[39;49mhttp\u001b[39m.\u001b[39;49mserve()\n",
      "File \u001b[1;32mc:\\Users\\vuill\\anaconda3\\envs\\HUG\\Lib\\site-packages\\hug\\api.py:284\u001b[0m, in \u001b[0;36mHTTPInterfaceAPI.serve\u001b[1;34m(self, host, port, no_documentation, display_intro)\u001b[0m\n\u001b[0;32m    282\u001b[0m httpd \u001b[39m=\u001b[39m make_server(host, port, api)\n\u001b[0;32m    283\u001b[0m \u001b[39mprint\u001b[39m(\u001b[39m\"\u001b[39m\u001b[39mServing on \u001b[39m\u001b[39m{0}\u001b[39;00m\u001b[39m:\u001b[39m\u001b[39m{1}\u001b[39;00m\u001b[39m...\u001b[39m\u001b[39m\"\u001b[39m\u001b[39m.\u001b[39mformat(host, port))\n\u001b[1;32m--> 284\u001b[0m httpd\u001b[39m.\u001b[39;49mserve_forever()\n",
      "File \u001b[1;32mc:\\Users\\vuill\\anaconda3\\envs\\HUG\\Lib\\socketserver.py:238\u001b[0m, in \u001b[0;36mBaseServer.serve_forever\u001b[1;34m(self, poll_interval)\u001b[0m\n\u001b[0;32m    236\u001b[0m                 \u001b[39mbreak\u001b[39;00m\n\u001b[0;32m    237\u001b[0m             \u001b[39mif\u001b[39;00m ready:\n\u001b[1;32m--> 238\u001b[0m                 \u001b[39mself\u001b[39;49m\u001b[39m.\u001b[39;49m_handle_request_noblock()\n\u001b[0;32m    240\u001b[0m             \u001b[39mself\u001b[39m\u001b[39m.\u001b[39mservice_actions()\n\u001b[0;32m    241\u001b[0m \u001b[39mfinally\u001b[39;00m:\n",
      "File \u001b[1;32mc:\\Users\\vuill\\anaconda3\\envs\\HUG\\Lib\\socketserver.py:317\u001b[0m, in \u001b[0;36mBaseServer._handle_request_noblock\u001b[1;34m(self)\u001b[0m\n\u001b[0;32m    315\u001b[0m \u001b[39mif\u001b[39;00m \u001b[39mself\u001b[39m\u001b[39m.\u001b[39mverify_request(request, client_address):\n\u001b[0;32m    316\u001b[0m     \u001b[39mtry\u001b[39;00m:\n\u001b[1;32m--> 317\u001b[0m         \u001b[39mself\u001b[39;49m\u001b[39m.\u001b[39;49mprocess_request(request, client_address)\n\u001b[0;32m    318\u001b[0m     \u001b[39mexcept\u001b[39;00m \u001b[39mException\u001b[39;00m:\n\u001b[0;32m    319\u001b[0m         \u001b[39mself\u001b[39m\u001b[39m.\u001b[39mhandle_error(request, client_address)\n",
      "File \u001b[1;32mc:\\Users\\vuill\\anaconda3\\envs\\HUG\\Lib\\socketserver.py:348\u001b[0m, in \u001b[0;36mBaseServer.process_request\u001b[1;34m(self, request, client_address)\u001b[0m\n\u001b[0;32m    342\u001b[0m \u001b[39mdef\u001b[39;00m \u001b[39mprocess_request\u001b[39m(\u001b[39mself\u001b[39m, request, client_address):\n\u001b[0;32m    343\u001b[0m \u001b[39m    \u001b[39m\u001b[39m\"\"\"Call finish_request.\u001b[39;00m\n\u001b[0;32m    344\u001b[0m \n\u001b[0;32m    345\u001b[0m \u001b[39m    Overridden by ForkingMixIn and ThreadingMixIn.\u001b[39;00m\n\u001b[0;32m    346\u001b[0m \n\u001b[0;32m    347\u001b[0m \u001b[39m    \"\"\"\u001b[39;00m\n\u001b[1;32m--> 348\u001b[0m     \u001b[39mself\u001b[39;49m\u001b[39m.\u001b[39;49mfinish_request(request, client_address)\n\u001b[0;32m    349\u001b[0m     \u001b[39mself\u001b[39m\u001b[39m.\u001b[39mshutdown_request(request)\n",
      "File \u001b[1;32mc:\\Users\\vuill\\anaconda3\\envs\\HUG\\Lib\\socketserver.py:361\u001b[0m, in \u001b[0;36mBaseServer.finish_request\u001b[1;34m(self, request, client_address)\u001b[0m\n\u001b[0;32m    359\u001b[0m \u001b[39mdef\u001b[39;00m \u001b[39mfinish_request\u001b[39m(\u001b[39mself\u001b[39m, request, client_address):\n\u001b[0;32m    360\u001b[0m \u001b[39m    \u001b[39m\u001b[39m\"\"\"Finish one request by instantiating RequestHandlerClass.\"\"\"\u001b[39;00m\n\u001b[1;32m--> 361\u001b[0m     \u001b[39mself\u001b[39;49m\u001b[39m.\u001b[39;49mRequestHandlerClass(request, client_address, \u001b[39mself\u001b[39;49m)\n",
      "File \u001b[1;32mc:\\Users\\vuill\\anaconda3\\envs\\HUG\\Lib\\socketserver.py:755\u001b[0m, in \u001b[0;36mBaseRequestHandler.__init__\u001b[1;34m(self, request, client_address, server)\u001b[0m\n\u001b[0;32m    753\u001b[0m \u001b[39mself\u001b[39m\u001b[39m.\u001b[39msetup()\n\u001b[0;32m    754\u001b[0m \u001b[39mtry\u001b[39;00m:\n\u001b[1;32m--> 755\u001b[0m     \u001b[39mself\u001b[39;49m\u001b[39m.\u001b[39;49mhandle()\n\u001b[0;32m    756\u001b[0m \u001b[39mfinally\u001b[39;00m:\n\u001b[0;32m    757\u001b[0m     \u001b[39mself\u001b[39m\u001b[39m.\u001b[39mfinish()\n",
      "File \u001b[1;32mc:\\Users\\vuill\\anaconda3\\envs\\HUG\\Lib\\wsgiref\\simple_server.py:118\u001b[0m, in \u001b[0;36mWSGIRequestHandler.handle\u001b[1;34m(self)\u001b[0m\n\u001b[0;32m    115\u001b[0m \u001b[39mdef\u001b[39;00m \u001b[39mhandle\u001b[39m(\u001b[39mself\u001b[39m):\n\u001b[0;32m    116\u001b[0m \u001b[39m    \u001b[39m\u001b[39m\"\"\"Handle a single HTTP request\"\"\"\u001b[39;00m\n\u001b[1;32m--> 118\u001b[0m     \u001b[39mself\u001b[39m\u001b[39m.\u001b[39mraw_requestline \u001b[39m=\u001b[39m \u001b[39mself\u001b[39;49m\u001b[39m.\u001b[39;49mrfile\u001b[39m.\u001b[39;49mreadline(\u001b[39m65537\u001b[39;49m)\n\u001b[0;32m    119\u001b[0m     \u001b[39mif\u001b[39;00m \u001b[39mlen\u001b[39m(\u001b[39mself\u001b[39m\u001b[39m.\u001b[39mraw_requestline) \u001b[39m>\u001b[39m \u001b[39m65536\u001b[39m:\n\u001b[0;32m    120\u001b[0m         \u001b[39mself\u001b[39m\u001b[39m.\u001b[39mrequestline \u001b[39m=\u001b[39m \u001b[39m'\u001b[39m\u001b[39m'\u001b[39m\n",
      "File \u001b[1;32mc:\\Users\\vuill\\anaconda3\\envs\\HUG\\Lib\\socket.py:706\u001b[0m, in \u001b[0;36mSocketIO.readinto\u001b[1;34m(self, b)\u001b[0m\n\u001b[0;32m    704\u001b[0m \u001b[39mwhile\u001b[39;00m \u001b[39mTrue\u001b[39;00m:\n\u001b[0;32m    705\u001b[0m     \u001b[39mtry\u001b[39;00m:\n\u001b[1;32m--> 706\u001b[0m         \u001b[39mreturn\u001b[39;00m \u001b[39mself\u001b[39;49m\u001b[39m.\u001b[39;49m_sock\u001b[39m.\u001b[39;49mrecv_into(b)\n\u001b[0;32m    707\u001b[0m     \u001b[39mexcept\u001b[39;00m timeout:\n\u001b[0;32m    708\u001b[0m         \u001b[39mself\u001b[39m\u001b[39m.\u001b[39m_timeout_occurred \u001b[39m=\u001b[39m \u001b[39mTrue\u001b[39;00m\n",
      "\u001b[1;31mKeyboardInterrupt\u001b[0m: "
     ]
    }
   ],
   "source": [
    "if __name__ == '__main__':\n",
    "    hug.API(__name__).http.serve()"
   ]
  }
 ],
 "metadata": {
  "kernelspec": {
   "display_name": "base",
   "language": "python",
   "name": "python3"
  },
  "language_info": {
   "codemirror_mode": {
    "name": "ipython",
    "version": 3
   },
   "file_extension": ".py",
   "mimetype": "text/x-python",
   "name": "python",
   "nbconvert_exporter": "python",
   "pygments_lexer": "ipython3",
   "version": "3.11.3"
  },
  "orig_nbformat": 4
 },
 "nbformat": 4,
 "nbformat_minor": 2
}
